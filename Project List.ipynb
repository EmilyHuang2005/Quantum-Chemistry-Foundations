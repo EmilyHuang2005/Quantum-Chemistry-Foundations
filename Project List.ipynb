{
 "cells": [
  {
   "cell_type": "markdown",
   "id": "8bff9af0",
   "metadata": {},
   "source": [
    "# Quantum Chemistry Foundations\n",
    "\n",
    "---"
   ]
  },
  {
   "cell_type": "markdown",
   "id": "bf0c304a",
   "metadata": {},
   "source": [
    "- Hückel theory MO theory\n",
    "- Numerical solution of the hydrogen atom with  Schrödinger equation (basis sets)\n",
    "- Hartree-Fock theory\n",
    "- Reading integrals\n",
    "- Second quantization and full configuration interaction\n",
    "- Perturbation theory\n",
    "- Coupled cluster theory\n",
    "- Selected configuration interaction\n",
    "- Quantum Machine Learning"
   ]
  },
  {
   "cell_type": "code",
   "execution_count": null,
   "id": "ab9d5a10",
   "metadata": {},
   "outputs": [],
   "source": []
  }
 ],
 "metadata": {
  "kernelspec": {
   "display_name": "Python 3.10 (forte)",
   "language": "python",
   "name": "forte"
  },
  "language_info": {
   "codemirror_mode": {
    "name": "ipython",
    "version": 3
   },
   "file_extension": ".py",
   "mimetype": "text/x-python",
   "name": "python",
   "nbconvert_exporter": "python",
   "pygments_lexer": "ipython3",
   "version": "3.10.10"
  }
 },
 "nbformat": 4,
 "nbformat_minor": 5
}

{
 "cells": [
  {
   "cell_type": "markdown",
   "id": "b9ca32d7-e806-4372-aa3d-6269271a4234",
   "metadata": {},
   "source": [
    "<center>\n",
    "<img src=\"../Graphics/logo.png\" width=\"600\" />    \n",
    "</center> \n",
    "\n",
    "# 01 - Introduction to scientific computing with Python in Jupyter\n",
    "\n",
    "This tutorial is part of the [Quantum Chemistry Foundations](https://github.com/fevangelista/Quantum-Chemistry-Foundations) series.\n",
    "\n",
    "Francesco A. Evangelista\n",
    "\n",
    "---"
   ]
  },
  {
   "cell_type": "markdown",
   "id": "cfaa789f-00e7-4d40-b707-d15bea6c1a8f",
   "metadata": {},
   "source": [
    "## Useful tidbits of Python\n",
    "\n",
    "In this tutorial we will look at some important basic aspects of scientific computing with Python. Before we start, let's look at some useful tricks in Python.\n",
    "\n",
    "When printing data, it's convenient to use **formatted strings**. A formatted string starts with an `f` and you can reference variables in it by surrounding them with braces (`{}`). Here are some examples of formatted strings used in printing"
   ]
  },
  {
   "cell_type": "code",
   "execution_count": 1,
   "id": "7196cfc7-8002-4917-8273-ebc106e63fb1",
   "metadata": {},
   "outputs": [
    {
     "name": "stdout",
     "output_type": "stream",
     "text": [
      "x = 3.14159265359\n"
     ]
    }
   ],
   "source": [
    "# print the content of a variable\n",
    "x = 3.14159265359\n",
    "print(f'{x = }')"
   ]
  },
  {
   "cell_type": "code",
   "execution_count": 2,
   "id": "3cf33eb1-7bcb-4310-bc7f-580b485ac80b",
   "metadata": {},
   "outputs": [
    {
     "name": "stdout",
     "output_type": "stream",
     "text": [
      "π = 3.142 (rounded to three decimals)\n"
     ]
    }
   ],
   "source": [
    "# print some text and a variable\n",
    "print(f'π = {x:.3f} (rounded to three decimals)')"
   ]
  },
  {
   "cell_type": "markdown",
   "id": "f7165172-1dd0-49b6-8d2a-dcd7fb0bae07",
   "metadata": {},
   "source": [
    "## Representing numerical data\n",
    "\n",
    "Python can stored both integers and floating-point numbers. These two types work differently. Integers are stored with exact precision. This means that if we make an arbitrarily large integer, we can represent any operation on it without loosing accuracy.\n",
    "\n",
    "Let's create the integer $10^{99}$"
   ]
  },
  {
   "cell_type": "code",
   "execution_count": 3,
   "id": "bdad0389-aa64-4354-82e0-91437c226dd5",
   "metadata": {},
   "outputs": [
    {
     "name": "stdout",
     "output_type": "stream",
     "text": [
      "1000000000000000000000000000000000000000000000000000000000000000000000000000000000000000000000000000\n"
     ]
    }
   ],
   "source": [
    "n = 10 ** 99\n",
    "print(n)"
   ]
  },
  {
   "cell_type": "markdown",
   "id": "367b9e7c-d764-4541-a29b-90fa4e991e6d",
   "metadata": {},
   "source": [
    "we can add 1 to $n$ and represent the result exactly (here we use formatted strings, to conveniently print variables and text)"
   ]
  },
  {
   "cell_type": "code",
   "execution_count": 4,
   "id": "e21d9b33-d5bd-4ec6-a0c7-7e3f7d689a06",
   "metadata": {},
   "outputs": [
    {
     "name": "stdout",
     "output_type": "stream",
     "text": [
      "m = 1000000000000000000000000000000000000000000000000000000000000000000000000000000000000000000000000001\n"
     ]
    }
   ],
   "source": [
    "m = n + 1\n",
    "print(f'{m = }')"
   ]
  },
  {
   "cell_type": "markdown",
   "id": "909c04d3-eaa4-44c0-b196-53d8f5bb5149",
   "metadata": {},
   "source": [
    "We can correctly compute the difference of $m$ and $n$ and and the two numbers are not equal (which we test with `==`)"
   ]
  },
  {
   "cell_type": "code",
   "execution_count": 5,
   "id": "14bdc9fe-5ddb-49f0-92e4-570a45d96fef",
   "metadata": {},
   "outputs": [
    {
     "name": "stdout",
     "output_type": "stream",
     "text": [
      "m - n = 1\n",
      "m == n is False\n"
     ]
    }
   ],
   "source": [
    "print(f'{m - n = }')\n",
    "print(f'm == n is {m == n}')"
   ]
  },
  {
   "cell_type": "markdown",
   "id": "6695f757-71d2-4765-a0c9-248c1dc51713",
   "metadata": {},
   "source": [
    "Floating-point numbers are represented instead using a binary fraction and have limited precision. For example, this sum does not evaluate to what you would expect"
   ]
  },
  {
   "cell_type": "code",
   "execution_count": 1,
   "id": "02aab1f9-1fd4-4d92-9cd6-2b990a918eb5",
   "metadata": {},
   "outputs": [
    {
     "data": {
      "text/plain": [
       "0.30000000000000004"
      ]
     },
     "execution_count": 1,
     "metadata": {},
     "output_type": "execute_result"
    }
   ],
   "source": [
    "0.1 + 0.2"
   ]
  },
  {
   "cell_type": "markdown",
   "id": "b9a4259e-2215-43c8-944c-03fd7bcf40b2",
   "metadata": {},
   "source": [
    "For double-precision floating-point numbers, you should expect numbers to be represented with a relative accuracy of about $10^{-15}$. Here if we add one to the number $x = 10^{15}$ we retain enough precision to correctly evaluate the difference $(10^{15} + 1) - (10^{15})$"
   ]
  },
  {
   "cell_type": "code",
   "execution_count": 7,
   "id": "7fe882d5-fd16-46b4-b675-e76d0a824a50",
   "metadata": {},
   "outputs": [
    {
     "name": "stdout",
     "output_type": "stream",
     "text": [
      "y - x = 1.0\n",
      "y == x is False\n"
     ]
    }
   ],
   "source": [
    "x = 1.0e15\n",
    "y = x + 1\n",
    "print(f'{y - x = }')\n",
    "print(f'y == x is {y == x}')"
   ]
  },
  {
   "cell_type": "markdown",
   "id": "76e7df11-0e32-4dad-b36f-feb4c5bbf74f",
   "metadata": {},
   "source": [
    "However, if we set $x = 10^{16}$ subtracting the two numbers gives zero and Python thinks the two numbers are the *same*"
   ]
  },
  {
   "cell_type": "code",
   "execution_count": 8,
   "id": "560dff7d-4d06-479c-ad8f-c095c647a280",
   "metadata": {},
   "outputs": [
    {
     "name": "stdout",
     "output_type": "stream",
     "text": [
      "y - x = 0.0\n",
      "y == x is True\n"
     ]
    }
   ],
   "source": [
    "x = 1.0e16\n",
    "y = x + 1\n",
    "print(f'{y - x = }')\n",
    "print(f'y == x is {y == x}')"
   ]
  },
  {
   "cell_type": "markdown",
   "id": "b9ac5411-bacf-431c-8d45-4a1139e3ae9b",
   "metadata": {},
   "source": [
    "This is because the numbers $10^{16} + 1$ and $10^{16}$  round to the same binary fraction within the finite accuracy representation used by Python."
   ]
  },
  {
   "cell_type": "markdown",
   "id": "22801558-15ea-47e3-a934-2b3072899d1b",
   "metadata": {},
   "source": [
    "## Storing and manipulating vectors, matrices, and tensors with `numpy`"
   ]
  },
  {
   "cell_type": "markdown",
   "id": "c81787c5-6c0c-4b37-ab0c-a6187987349a",
   "metadata": {},
   "source": [
    "In Python you can represent vectors using lists. Elements of a vector can be accessed and modified"
   ]
  },
  {
   "cell_type": "code",
   "execution_count": 9,
   "id": "69f4bda3-8800-4a7a-8502-f26230dedcfd",
   "metadata": {},
   "outputs": [
    {
     "name": "stdout",
     "output_type": "stream",
     "text": [
      "[0.5, -1.0, 2.0]\n",
      "5.25\n"
     ]
    }
   ],
   "source": [
    "vec = [1.0, -1.0, 2.0]\n",
    "vec[0] = 0.5\n",
    "sqr = vec[0] * vec[0] + vec[1] * vec[1] + vec[2] * vec[2]\n",
    "print(vec)\n",
    "print(sqr)"
   ]
  },
  {
   "cell_type": "markdown",
   "id": "6a9f6488-dcc3-4093-9be5-13ca78e767c1",
   "metadata": {},
   "source": [
    "You can even extend this to treat matrices (list of lists) and tensors, but this is in practice a *bad idea*. Why? There are several reasons:\n",
    "\n",
    "- **Performance**. Due to the way it works, Python is very slow at performing operations on vectors.\n",
    "- **Complexity**. Expressing many mathematical operations on vectors, matrices, and tensors can require writing several lines of Python.\n",
    "- **Potential for errors**. The more code you have to write, the more likely it will contain errors in it.\n",
    "\n",
    "A better solution is to use a library that specializes in manipulating arbitrary-order tensors, like `numpy`. Let's import numpy and look at how we can store vectors with it"
   ]
  },
  {
   "cell_type": "code",
   "execution_count": 3,
   "id": "6814386b-9e3d-49ef-a191-2c7de621f161",
   "metadata": {},
   "outputs": [],
   "source": [
    "import numpy as np"
   ]
  },
  {
   "cell_type": "markdown",
   "id": "22e0916a-20b6-42a7-b633-a062b49507cd",
   "metadata": {},
   "source": [
    "Creating vectors "
   ]
  },
  {
   "cell_type": "code",
   "execution_count": 4,
   "id": "afcd4770-d7e3-4a4b-92f6-63d61ace2362",
   "metadata": {},
   "outputs": [
    {
     "name": "stdout",
     "output_type": "stream",
     "text": [
      "[ 1. -1.  2.]\n"
     ]
    }
   ],
   "source": [
    "np_vec = np.array([1.0, -1.0, 2.0])\n",
    "print(np_vec)"
   ]
  },
  {
   "cell_type": "markdown",
   "id": "4e64ec3a-3c9a-4d76-9304-e574c8e90afd",
   "metadata": {},
   "source": [
    "To create a vector with 10 entries initialized to zero and set the fourth entry (with index equal to 3) to 5 we simply do the following"
   ]
  },
  {
   "cell_type": "code",
   "execution_count": 11,
   "id": "b4b80d44-2c21-465c-8aeb-8437bbc065d6",
   "metadata": {},
   "outputs": [
    {
     "name": "stdout",
     "output_type": "stream",
     "text": [
      "v = array([0., 0., 0., 5., 0., 0., 0., 0., 0., 0.])\n"
     ]
    }
   ],
   "source": [
    "v = np.zeros((10))\n",
    "v[3] = 5\n",
    "print(f'{v = }')"
   ]
  },
  {
   "cell_type": "markdown",
   "id": "e161c3c5-b256-489d-a630-de32bde024a3",
   "metadata": {},
   "source": [
    "Notice that `numpy` refers to vectors, matrices, and tensors with the generic term array.\n",
    "    \n",
    "Let's create two lists and numpy arrays fill them with the numbers $0, 1, \\ldots, N - 1$, where $N = 10^{6}$"
   ]
  },
  {
   "cell_type": "code",
   "execution_count": 12,
   "id": "8f571ed0-6d97-4057-b962-bd7abd551da1",
   "metadata": {},
   "outputs": [],
   "source": [
    "import time # for timing purposes only\n",
    "\n",
    "N = 10**7\n",
    "\n",
    "a_list = [i for i in range(N)]\n",
    "b_list = [i for i in range(N)]\n",
    "\n",
    "a_array = np.arange(N)\n",
    "b_array = np.arange(N)"
   ]
  },
  {
   "cell_type": "markdown",
   "id": "84e1d924-46a4-465e-82b3-b441cde553f2",
   "metadata": {},
   "source": [
    "Next, let's add up the two vectors ($\\mathbf{a} + \\mathbf{b}$) stored as a list and compute their dot product ($\\mathbf{a} \\cdot \\mathbf{b}$).\n",
    "We will surround these instructions with calls to `perf_counter()` to get the total timing for these operations"
   ]
  },
  {
   "cell_type": "code",
   "execution_count": 13,
   "id": "37007ac6-c9c6-4020-9c5c-855d69e21527",
   "metadata": {},
   "outputs": [
    {
     "name": "stdout",
     "output_type": "stream",
     "text": [
      "Timing for list: 1.3458919169934234 seconds\n",
      "dot = 3.333332833337171e+20\n"
     ]
    }
   ],
   "source": [
    "start = time.perf_counter()\n",
    "\n",
    "# add vectors\n",
    "c_list = [x + y for x, y in zip(a_list,b_list)]\n",
    "\n",
    "# dot product\n",
    "dot = 0.0\n",
    "for x, y in zip(a_list,b_list):\n",
    "    dot += x * y\n",
    "\n",
    "end = time.perf_counter()\n",
    "\n",
    "time_list = end - start\n",
    "print(f'Timing for list: {time_list} seconds')\n",
    "print(f'{dot = }')"
   ]
  },
  {
   "cell_type": "markdown",
   "id": "7fb0fef6-745d-48b7-a6e4-218c70418669",
   "metadata": {},
   "source": [
    "Now, we repeat the same operations using `numpy`"
   ]
  },
  {
   "cell_type": "code",
   "execution_count": 14,
   "id": "e811b8de-9d90-4cb6-8659-5815f498ec93",
   "metadata": {},
   "outputs": [
    {
     "name": "stdout",
     "output_type": "stream",
     "text": [
      "Timing for list: 0.013286166999023408 seconds\n",
      "dot = 1291890006563070912\n"
     ]
    }
   ],
   "source": [
    "start = time.perf_counter()\n",
    "\n",
    "# add vectors\n",
    "c_array = a_array + b_array\n",
    "\n",
    "# dot product\n",
    "dot = np.dot(a_array, b_array)\n",
    "\n",
    "end = time.perf_counter()\n",
    "time_np = end - start\n",
    "print(f'Timing for list: {time_np} seconds')\n",
    "print(f'{dot = }')"
   ]
  },
  {
   "cell_type": "markdown",
   "id": "7d2c2499-99d0-4c0c-87fe-02838d2fcfbd",
   "metadata": {},
   "source": [
    "Finally, we can compute the speedup achieved by numpy compared to the naïve Python implementation"
   ]
  },
  {
   "cell_type": "code",
   "execution_count": 15,
   "id": "bd9d2a92-cdd0-4643-9d2b-8c92ca3075c8",
   "metadata": {},
   "outputs": [
    {
     "data": {
      "text/plain": [
       "101.30024085143235"
      ]
     },
     "execution_count": 15,
     "metadata": {},
     "output_type": "execute_result"
    }
   ],
   "source": [
    "time_list / time_np"
   ]
  },
  {
   "cell_type": "markdown",
   "id": "04538b7a-c5bb-4f73-8615-dcec6496da51",
   "metadata": {},
   "source": [
    "This test shows a speed up of two orders of magnitude! 🥳"
   ]
  },
  {
   "cell_type": "markdown",
   "id": "681108c0-be87-4922-9854-c6c96e5aee3b",
   "metadata": {},
   "source": [
    "## The basics of NumPy\n",
    "\n",
    "Let's explore some basic features of numpy. Arrays are characterized by the number of axes (also called rank), the range of values each index can take, and the type of data it stores. Creating a matrix (an array with two axes/indices) of dimensions $3 \\times 7$ with all zero entries can be done by passing a shape in the form of a tuple"
   ]
  },
  {
   "cell_type": "code",
   "execution_count": 34,
   "id": "b1c56538-58a2-4308-b55c-c03f51c6910d",
   "metadata": {},
   "outputs": [
    {
     "name": "stdout",
     "output_type": "stream",
     "text": [
      "[[0. 0. 0. 0. 0. 0. 0.]\n",
      " [0. 0. 0. 0. 0. 0. 0.]\n",
      " [0. 0. 0. 0. 0. 0. 0.]]\n"
     ]
    }
   ],
   "source": [
    "A = np.zeros((3,7)) # same as np.zeros(shape=(3,7))\n",
    "print(A)"
   ]
  },
  {
   "cell_type": "code",
   "execution_count": 35,
   "id": "c142c5b3-7241-48d9-8a52-fb380ef5e7c3",
   "metadata": {},
   "outputs": [
    {
     "name": "stdout",
     "output_type": "stream",
     "text": [
      "A.shape = (3, 7)\n"
     ]
    }
   ],
   "source": [
    "# show the shape of this array\n",
    "print(f'{A.shape = }')"
   ]
  },
  {
   "cell_type": "code",
   "execution_count": 36,
   "id": "99f94d60-92ec-4614-8017-33d4301753a1",
   "metadata": {},
   "outputs": [
    {
     "name": "stdout",
     "output_type": "stream",
     "text": [
      "A.dtype = dtype('float64')\n"
     ]
    }
   ],
   "source": [
    "# show the type of data stored in this array\n",
    "print(f'{A.dtype = }')"
   ]
  },
  {
   "cell_type": "markdown",
   "id": "4a02c4f7-68b7-4801-b18e-35503c3188bd",
   "metadata": {},
   "source": [
    "This example also shows how to access the shape and the data type stored by the array.\n",
    "\n",
    "Filling an array with zeros requires paying a small overhead for setting all the values to 0, but it is good practice since we could have bugs if we allocate an array and only set a fraction of the entries, assuming the rest should be zero.\n",
    "\n",
    "Here are two other ways to initialize arrays"
   ]
  },
  {
   "cell_type": "code",
   "execution_count": 28,
   "id": "4ec9d717-367f-4653-9638-ff218b7f335b",
   "metadata": {},
   "outputs": [
    {
     "name": "stdout",
     "output_type": "stream",
     "text": [
      "[[1. 1. 1.]\n",
      " [1. 1. 1.]\n",
      " [1. 1. 1.]\n",
      " [1. 1. 1.]]\n"
     ]
    }
   ],
   "source": [
    "# fill B with a 4 x 3 matrix of ones\n",
    "B = np.ones((4,3))\n",
    "print(B)"
   ]
  },
  {
   "cell_type": "code",
   "execution_count": 29,
   "id": "669942b5-c74b-48e2-9f14-003ab4daf4ef",
   "metadata": {},
   "outputs": [
    {
     "name": "stdout",
     "output_type": "stream",
     "text": [
      "[[0. 0. 0. 0. 0. 0.]\n",
      " [0. 0. 0. 0. 0. 0.]\n",
      " [0. 0. 0. 0. 0. 0.]\n",
      " [0. 0. 0. 0. 0. 0.]\n",
      " [0. 0. 0. 0. 0. 0.]]\n"
     ]
    }
   ],
   "source": [
    "# allocate memory for a 5 x 6 matrix but do not initialize it (not recommended)\n",
    "# this may give a different result every time you run it\n",
    "C = np.empty((5,6))\n",
    "print(C)"
   ]
  },
  {
   "cell_type": "markdown",
   "id": "b330f70b-297a-4dde-a159-abc41d2529b1",
   "metadata": {},
   "source": [
    "We can access elements of an array in the following way"
   ]
  },
  {
   "cell_type": "code",
   "execution_count": 18,
   "id": "eae0ad95-26b6-4b04-b40d-2cbaa7a4340a",
   "metadata": {},
   "outputs": [
    {
     "data": {
      "text/plain": [
       "0.0"
      ]
     },
     "execution_count": 18,
     "metadata": {},
     "output_type": "execute_result"
    }
   ],
   "source": [
    "# access element with indices (2,3) of A (all indices start from zero!)\n",
    "A[2,3]"
   ]
  },
  {
   "cell_type": "markdown",
   "id": "f555be87-6af3-495a-b4aa-91b195c2143d",
   "metadata": {},
   "source": [
    "Once we have stored data in arrays, there are many operations we can easily perform with numpy. If there is a function in numpy that will do what you need, as a general rule, use it instead of writing Python code. You are certainly guaranteed that it will be faster and correct. Here are some examples"
   ]
  },
  {
   "cell_type": "code",
   "execution_count": 30,
   "id": "b2e0f117-7fca-4359-bfd8-55455b5a90d3",
   "metadata": {},
   "outputs": [
    {
     "name": "stdout",
     "output_type": "stream",
     "text": [
      "z = array([ 2,  8, 10,  4,  7,  9, 11,  9, 14])\n"
     ]
    }
   ],
   "source": [
    "x = np.array([0,1,2,3,4,5,6,7,8])\n",
    "y = np.array([2,7,8,1,3,4,5,2,6])\n",
    "\n",
    "# add two arrays\n",
    "z = x + y\n",
    "print(f'{z = }')"
   ]
  },
  {
   "cell_type": "code",
   "execution_count": 31,
   "id": "d072efcf-ccd1-4b39-bef5-411c98f60094",
   "metadata": {},
   "outputs": [
    {
     "name": "stdout",
     "output_type": "stream",
     "text": [
      "x * 10 = array([ 0, 10, 20, 30, 40, 50, 60, 70, 80])\n",
      "x + 10 = array([10, 11, 12, 13, 14, 15, 16, 17, 18])\n"
     ]
    }
   ],
   "source": [
    "# scale and shift arrays\n",
    "print(f'{x * 10 = }')\n",
    "print(f'{x + 10 = }')"
   ]
  },
  {
   "cell_type": "code",
   "execution_count": 32,
   "id": "e6c4339b-3ec9-4576-928d-628426542d4c",
   "metadata": {},
   "outputs": [
    {
     "name": "stdout",
     "output_type": "stream",
     "text": [
      "x * x = array([ 0,  1,  4,  9, 16, 25, 36, 49, 64])\n",
      "x / y = array([0.        , 0.14285714, 0.25      , 3.        , 1.33333333,\n",
      "       1.25      , 1.2       , 3.5       , 1.33333333])\n"
     ]
    }
   ],
   "source": [
    "# element-wise multiplication and divisition\n",
    "print(f'{x * x = }')\n",
    "print(f'{x / y = }')"
   ]
  },
  {
   "cell_type": "code",
   "execution_count": 33,
   "id": "7b25913c-0ae9-4140-af86-0adf883c0112",
   "metadata": {},
   "outputs": [
    {
     "name": "stdout",
     "output_type": "stream",
     "text": [
      "np.exp(x) = array([1.00000000e+00, 2.71828183e+00, 7.38905610e+00, 2.00855369e+01,\n",
      "       5.45981500e+01, 1.48413159e+02, 4.03428793e+02, 1.09663316e+03,\n",
      "       2.98095799e+03])\n"
     ]
    }
   ],
   "source": [
    "# element-wise functions\n",
    "print(f'{np.exp(x) = }')"
   ]
  },
  {
   "cell_type": "markdown",
   "id": "71068e48-947c-44ef-897d-0f73f2ff6915",
   "metadata": {},
   "source": [
    "## Slicing arrays\n",
    "\n",
    "Often it is necessary to access parts of an array. Slicing offers a convenient way to do so without actually copying the data. Slicing follows the same format as accessing an element of an array but instead of a number we pass the beginning and the end (non inclusive) indices of the array. In this example, we get a slice from the second to the fourth element of the array `v`"
   ]
  },
  {
   "cell_type": "code",
   "execution_count": 37,
   "id": "f6044b91-b1e9-4e3d-b137-84f08c8e9327",
   "metadata": {},
   "outputs": [
    {
     "name": "stdout",
     "output_type": "stream",
     "text": [
      "[4 5 6]\n"
     ]
    }
   ],
   "source": [
    "v = np.array([3,4,5,6,9,0,-2,3])\n",
    "\n",
    "# print the content of a slice\n",
    "print(v[1:4])"
   ]
  },
  {
   "cell_type": "code",
   "execution_count": 40,
   "id": "194e7edf-f70f-4d82-8445-74b176e96816",
   "metadata": {},
   "outputs": [
    {
     "name": "stdout",
     "output_type": "stream",
     "text": [
      "sl[0] = 4\n"
     ]
    }
   ],
   "source": [
    "# we can reference slices\n",
    "sl = v[1:4]\n",
    "\n",
    "# and access elements in the slice\n",
    "print(f'{sl[0] = }')"
   ]
  },
  {
   "cell_type": "code",
   "execution_count": 41,
   "id": "85a159df-6695-40b0-b7d7-14d665b3a78d",
   "metadata": {},
   "outputs": [
    {
     "name": "stdout",
     "output_type": "stream",
     "text": [
      "sl = array([ 4, -7,  6])\n",
      "v = array([ 3,  4, -7,  6,  9,  0, -2,  3])\n"
     ]
    }
   ],
   "source": [
    "# or modify them\n",
    "sl[1] = -7\n",
    "print(f'{sl = }')\n",
    "print(f'{v = }')"
   ]
  },
  {
   "cell_type": "markdown",
   "id": "6f83d23b-41ac-45e9-abad-57114a361d7b",
   "metadata": {},
   "source": [
    "We can also create slices that skip over data"
   ]
  },
  {
   "cell_type": "code",
   "execution_count": 21,
   "id": "ff204f1c-5336-4dd8-a020-4e5540569c8b",
   "metadata": {},
   "outputs": [
    {
     "data": {
      "text/plain": [
       "array([ 3, -7,  9])"
      ]
     },
     "execution_count": 21,
     "metadata": {},
     "output_type": "execute_result"
    }
   ],
   "source": [
    "# grab the first three elements with even indices\n",
    "v[0:6:2]"
   ]
  },
  {
   "cell_type": "markdown",
   "id": "2a8f68dc-4874-43b6-a658-df2366f8f133",
   "metadata": {},
   "source": [
    "For matrices and tensors, we can also specify all the elements in an index with `:`. The following code grabs the first column of the matrix $M$"
   ]
  },
  {
   "cell_type": "code",
   "execution_count": 22,
   "id": "8b3c2de7-a38b-4a83-81b9-09acb9127025",
   "metadata": {},
   "outputs": [
    {
     "name": "stdout",
     "output_type": "stream",
     "text": [
      "M = array([[0, 1, 2, 3],\n",
      "       [4, 5, 6, 7]])\n",
      "column0 = array([0, 4])\n",
      "row1 = array([4, 5, 6, 7])\n"
     ]
    }
   ],
   "source": [
    "M = np.array([[0,1,2,3],\n",
    "              [4,5,6,7]])\n",
    "print(f'{M = }')\n",
    "\n",
    "# grab the first column\n",
    "column0 = M[:,0]\n",
    "print(f'{column0 = }')\n",
    "\n",
    "# grab the second row\n",
    "row1 = M[1,:]\n",
    "print(f'{row1 = }')"
   ]
  },
  {
   "cell_type": "markdown",
   "id": "b12931b8-ecf2-4c42-be93-43421184e487",
   "metadata": {},
   "source": [
    "## Arrays and data ownership ⚠️\n",
    "\n",
    "Python variables are references to values. This means that when we write code like\n",
    "```python\n",
    "n = [10, 20]\n",
    "```\n",
    "we should think of this as *the variable* `n` *is pointing to the list* `[10, 20]`. It is a good idea to become familiar with this concept because it has important consequence when we write code. Consider the following example"
   ]
  },
  {
   "cell_type": "code",
   "execution_count": 23,
   "id": "96923633-5353-454c-b474-917941eab9d7",
   "metadata": {},
   "outputs": [],
   "source": [
    "# create the array x = [0,1,2,3,4,5]\n",
    "x = np.array([0,1,2,3,4,5])\n",
    "\n",
    "# set y to x\n",
    "y = x\n",
    "\n",
    "# modify the first element of y\n",
    "y[0] = 9"
   ]
  },
  {
   "cell_type": "markdown",
   "id": "9b81915c-2e1b-4557-9be0-8b5214853f05",
   "metadata": {},
   "source": [
    "What do you expect the arrays `x` and `y` to look like after this code is executed? Let's check 🔍"
   ]
  },
  {
   "cell_type": "code",
   "execution_count": 24,
   "id": "ba71d80e-2399-4e6c-8d66-c125056ca63f",
   "metadata": {},
   "outputs": [
    {
     "name": "stdout",
     "output_type": "stream",
     "text": [
      "x = array([9, 1, 2, 3, 4, 5])\n",
      "y = array([9, 1, 2, 3, 4, 5])\n"
     ]
    }
   ],
   "source": [
    "print(f'{x = }')\n",
    "print(f'{y = }')"
   ]
  },
  {
   "cell_type": "markdown",
   "id": "a01401f2-e025-46a3-b505-9931f641e2a8",
   "metadata": {},
   "source": [
    "The two arrays show the same change, and that's because both `x` and `y` are variables that point to the **same underlying data**. If we want to copy the data of an array we can call the `copy()` method"
   ]
  },
  {
   "cell_type": "code",
   "execution_count": 25,
   "id": "0a5f3804-7761-4d0e-9cd8-6b778e0582a1",
   "metadata": {},
   "outputs": [
    {
     "name": "stdout",
     "output_type": "stream",
     "text": [
      "x = array([9, 1, 2, 3, 4, 5])\n",
      "z = array([3, 1, 2, 3, 4, 5])\n"
     ]
    }
   ],
   "source": [
    "# copy the data in x and then change z\n",
    "z = x.copy()\n",
    "z[0] = 3\n",
    "\n",
    "print(f'{x = }')\n",
    "print(f'{z = }')"
   ]
  },
  {
   "cell_type": "markdown",
   "id": "f62c83f3-9262-45f3-aa23-83a6d708071d",
   "metadata": {},
   "source": [
    "## Plotting data\n",
    "\n",
    "We will often want to visualize data contained in arrays. We can do this with the library `matplotlib`. The next two examples demonstrate plotting a vector and a matrix"
   ]
  },
  {
   "cell_type": "code",
   "execution_count": 26,
   "id": "f70d7dde-4d24-49d9-b62b-a8b985e65975",
   "metadata": {},
   "outputs": [
    {
     "data": {
      "text/plain": [
       "[<matplotlib.lines.Line2D at 0x330e62310>]"
      ]
     },
     "execution_count": 26,
     "metadata": {},
     "output_type": "execute_result"
    },
    {
     "data": {
      "image/png": "[encoded data removed]",
      "text/plain": [
       "<Figure size 640x480 with 1 Axes>"
      ]
     },
     "metadata": {},
     "output_type": "display_data"
    }
   ],
   "source": [
    "import matplotlib.pylab as plt\n",
    "\n",
    "x = np.array([0,1,5,2,8,2,3,4,4,2,3,4,5])\n",
    "plt.plot(x)"
   ]
  },
  {
   "cell_type": "code",
   "execution_count": 27,
   "id": "497aa6e5-cf36-45de-955a-ee4b4e66695b",
   "metadata": {},
   "outputs": [
    {
     "data": {
      "text/plain": [
       "<matplotlib.image.AxesImage at 0x330f0eed0>"
      ]
     },
     "execution_count": 27,
     "metadata": {},
     "output_type": "execute_result"
    },
    {
     "data": {
      "image/png": "[encoded data removed]",
      "text/plain": [
       "<Figure size 640x480 with 1 Axes>"
      ]
     },
     "metadata": {},
     "output_type": "display_data"
    }
   ],
   "source": [
    "M = np.array([[0,1,2,3,5],\n",
    "              [2,2,4,6,8],\n",
    "              [4,5,6,7,9],\n",
    "              [3,2,3,4,3]])\n",
    "\n",
    "plt.imshow(M)"
   ]
  },
  {
   "cell_type": "markdown",
   "id": "4052f3cc-3629-434b-8505-363552956c30",
   "metadata": {},
   "source": [
    "## Other useful tricks\n",
    "\n",
    "When printing large arrays, it is convenient to create an output that can fit in the screen.\n",
    "One way to do so is to tell `numpy` to print an array with fixed precision:"
   ]
  },
  {
   "cell_type": "code",
   "execution_count": 9,
   "id": "16467aec-adca-41a0-8d01-f366156e3cac",
   "metadata": {},
   "outputs": [
    {
     "name": "stdout",
     "output_type": "stream",
     "text": [
      "[[ 0.          0.33333333  6.        ]\n",
      " [ 1.         -0.14285714  2.        ]]\n",
      "[[ 0.     0.333  6.   ]\n",
      " [ 1.    -0.143  2.   ]]\n"
     ]
    }
   ],
   "source": [
    "A = np.array([[0,1/3.,6],\n",
    "              [1,-1/7.,2]])\n",
    "\n",
    "# normal print\n",
    "print(A)\n",
    "\n",
    "# print up to three decimals\n",
    "with np.printoptions(precision=3, suppress=True):\n",
    "    print(A)"
   ]
  }
 ],
 "metadata": {
  "kernelspec": {
   "display_name": "Python 3.10 (forte)",
   "language": "python",
   "name": "forte"
  },
  "language_info": {
   "codemirror_mode": {
    "name": "ipython",
    "version": 3
   },
   "file_extension": ".py",
   "mimetype": "text/x-python",
   "name": "python",
   "nbconvert_exporter": "python",
   "pygments_lexer": "ipython3",
   "version": "3.11.10"
  }
 },
 "nbformat": 4,
 "nbformat_minor": 5
}

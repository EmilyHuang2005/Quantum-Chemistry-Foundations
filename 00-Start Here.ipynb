{
 "cells": [
  {
   "cell_type": "markdown",
   "id": "8bff9af0",
   "metadata": {},
   "source": [
    "# 00 - Start here\n",
    "\n",
    "This tutorial is part of the [Quantum Chemistry Foundations](https://github.com/fevangelista/Quantum-Chemistry-Foundations) series.\n",
    "\n",
    "Francesco A. Evangelista\n",
    "\n",
    "---"
   ]
  },
  {
   "cell_type": "markdown",
   "id": "bf0c304a",
   "metadata": {},
   "source": [
    "The following is a list of sections that form the **Quantum Chemistry Foundations** series.\n",
    "\n",
    "- [An introduction to scientific python](01-Scientific%20Computing.ipynb)\n",
    "- Hückel theory MO theory\n",
    "- Numerical solution of the hydrogen atom with  Schrödinger equation (basis sets)\n",
    "- Hartree-Fock theory\n",
    "- Reading integrals\n",
    "- Second quantization and full configuration interaction\n",
    "- Perturbation theory\n",
    "- Coupled cluster theory\n",
    "- Selected configuration interaction\n",
    "- Quantum Machine Learning"
   ]
  },
  {
   "cell_type": "code",
   "execution_count": null,
   "id": "ab9d5a10",
   "metadata": {},
   "outputs": [],
   "source": []
  }
 ],
 "metadata": {
  "kernelspec": {
   "display_name": "Python 3.10 (forte)",
   "language": "python",
   "name": "forte"
  },
  "language_info": {
   "codemirror_mode": {
    "name": "ipython",
    "version": 3
   },
   "file_extension": ".py",
   "mimetype": "text/x-python",
   "name": "python",
   "nbconvert_exporter": "python",
   "pygments_lexer": "ipython3",
   "version": "3.11.8"
  }
 },
 "nbformat": 4,
 "nbformat_minor": 5
}

{
 "cells": [
  {
   "cell_type": "markdown",
   "id": "8bff9af0",
   "metadata": {},
   "source": [
    "<center>\n",
    "<img src=\"Graphics/logo.png\" width=400>    \n",
    "</center> \n",
    "\n",
    "# 00 - Start here\n",
    "\n",
    "This tutorial is part of the [Quantum Chemistry Foundations](https://github.com/fevangelista/Quantum-Chemistry-Foundations) series.\n",
    "\n",
    "Francesco A. Evangelista\n",
    "\n",
    "---"
   ]
  },
  {
   "cell_type": "markdown",
   "id": "bf0c304a",
   "metadata": {},
   "source": [
    "The **Quantum Chemistry Foundations** series is a set of tutorials that explore some of the most important ideas of quantum chemistry.\n",
    "In these tutorials, you will learn about quantum chemistry from from a computational lense, which I think is a very effective way to complement a detailed study of the formal aspects of each method.\n",
    "\n",
    "These tutorials assume some basic knowledge of quantum mechanics and programming in Python. By doing all the coding using Jupyter notebooks only minimal setup should be required on your side to follow and modify the code.\n",
    "\n",
    "The following is a list of sections that form the **Quantum Chemistry Foundations** series.\n",
    "\n",
    "- [01 - An introduction to scientific python](01-Scientific%20Computing/01-Scientific%20Computing.ipynb). A quick introduction to NumPy and other useful tools for scientific computing. This can be skipped if you are already familiar with NumPy.\n",
    "- [02 - Hückel theory MO theory](02-Hückel%20Theory/02-Hückel%20Theory.ipynb) (🚧)\n",
    "- Numerical solution of the hydrogen atom with  Schrödinger equation (🚧)"
   ]
  },
  {
   "cell_type": "markdown",
   "id": "78826218-6384-415b-869e-d2efabfceeb0",
   "metadata": {},
   "source": [
    "## Notes\n",
    "\n",
    "- Sections labeled with ⚠️ contain important concepts that one might need to revisit in the future."
   ]
  }
 ],
 "metadata": {
  "kernelspec": {
   "display_name": "Python 3.10 (forte)",
   "language": "python",
   "name": "forte"
  },
  "language_info": {
   "codemirror_mode": {
    "name": "ipython",
    "version": 3
   },
   "file_extension": ".py",
   "mimetype": "text/x-python",
   "name": "python",
   "nbconvert_exporter": "python",
   "pygments_lexer": "ipython3",
   "version": "3.11.10"
  }
 },
 "nbformat": 4,
 "nbformat_minor": 5
}

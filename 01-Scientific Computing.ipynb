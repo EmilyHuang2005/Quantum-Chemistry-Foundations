{
 "cells": [
  {
   "cell_type": "markdown",
   "id": "b9ca32d7-e806-4372-aa3d-6269271a4234",
   "metadata": {},
   "source": [
    "# 01 - Introduction to scientific computing with Python in Jupyter\n",
    "\n",
    "This tutorial is part of the [Quantum Chemistry Foundations](https://github.com/fevangelista/Quantum-Chemistry-Foundations) series.\n",
    "\n",
    "Francesco A. Evangelista\n",
    "\n",
    "---"
   ]
  },
  {
   "cell_type": "markdown",
   "id": "f7165172-1dd0-49b6-8d2a-dcd7fb0bae07",
   "metadata": {},
   "source": [
    "## Representing numerical data\n",
    "\n",
    "Python can stored both integers and floating-point numbers. These two types work differently. Integers are stored with exact precision. This means that if we make an arbitrarily large integer, we can represent any operation on it without loosing accuracy.\n",
    "\n",
    "Let's create the integer $10^{99}$"
   ]
  },
  {
   "cell_type": "code",
   "execution_count": 1,
   "id": "bdad0389-aa64-4354-82e0-91437c226dd5",
   "metadata": {},
   "outputs": [
    {
     "name": "stdout",
     "output_type": "stream",
     "text": [
      "1000000000000000000000000000000000000000000000000000000000000000000000000000000000000000000000000000\n"
     ]
    }
   ],
   "source": [
    "n = 10 ** 99\n",
    "print(n)"
   ]
  },
  {
   "cell_type": "markdown",
   "id": "367b9e7c-d764-4541-a29b-90fa4e991e6d",
   "metadata": {},
   "source": [
    "we can add 1 to $n$ and represent the result exactly (here we use formatted strings, to conveniently print variables and text)"
   ]
  },
  {
   "cell_type": "code",
   "execution_count": 2,
   "id": "e21d9b33-d5bd-4ec6-a0c7-7e3f7d689a06",
   "metadata": {},
   "outputs": [
    {
     "name": "stdout",
     "output_type": "stream",
     "text": [
      "m = 1000000000000000000000000000000000000000000000000000000000000000000000000000000000000000000000000001\n"
     ]
    }
   ],
   "source": [
    "m = n + 1\n",
    "print(f'{m = }')"
   ]
  },
  {
   "cell_type": "markdown",
   "id": "909c04d3-eaa4-44c0-b196-53d8f5bb5149",
   "metadata": {},
   "source": [
    "We can correctly compute the difference of $m$ and $n$ and and the two numbers are not equal (which we test with `==`)"
   ]
  },
  {
   "cell_type": "code",
   "execution_count": 3,
   "id": "14bdc9fe-5ddb-49f0-92e4-570a45d96fef",
   "metadata": {},
   "outputs": [
    {
     "name": "stdout",
     "output_type": "stream",
     "text": [
      "m - n = 1\n",
      "m == n is False\n"
     ]
    }
   ],
   "source": [
    "print(f'{m - n = }')\n",
    "print(f'm == n is {m == n}')"
   ]
  },
  {
   "cell_type": "markdown",
   "id": "6695f757-71d2-4765-a0c9-248c1dc51713",
   "metadata": {},
   "source": [
    "Floating-point numbers are represented instead using a binary fraction and have limited precision. For example, this sum does not evaluate to what you would expect"
   ]
  },
  {
   "cell_type": "code",
   "execution_count": 4,
   "id": "02aab1f9-1fd4-4d92-9cd6-2b990a918eb5",
   "metadata": {},
   "outputs": [
    {
     "data": {
      "text/plain": [
       "0.30000000000000004"
      ]
     },
     "execution_count": 4,
     "metadata": {},
     "output_type": "execute_result"
    }
   ],
   "source": [
    "0.1 + 0.2"
   ]
  },
  {
   "cell_type": "markdown",
   "id": "b9a4259e-2215-43c8-944c-03fd7bcf40b2",
   "metadata": {},
   "source": [
    "For double-precision floating-point numbers, you should expect numbers to be represented with a relative accuracy of about $10^{-15}$. Here if we add one to the number $x = 10^{15}$ we retain enough precision to correctly evaluate the difference $(10^{15} + 1) - (10^{15})$"
   ]
  },
  {
   "cell_type": "code",
   "execution_count": 5,
   "id": "7fe882d5-fd16-46b4-b675-e76d0a824a50",
   "metadata": {},
   "outputs": [
    {
     "name": "stdout",
     "output_type": "stream",
     "text": [
      "y - x = 1.0\n",
      "y == x is False\n"
     ]
    }
   ],
   "source": [
    "x = 1.0e15\n",
    "y = x + 1\n",
    "print(f'{y - x = }')\n",
    "print(f'y == x is {y == x}')"
   ]
  },
  {
   "cell_type": "markdown",
   "id": "76e7df11-0e32-4dad-b36f-feb4c5bbf74f",
   "metadata": {},
   "source": [
    "However, if we set $x = 10^{16}$ subtracting the two numbers gives zero and Python thinks the two numbers are the *same*"
   ]
  },
  {
   "cell_type": "code",
   "execution_count": 6,
   "id": "560dff7d-4d06-479c-ad8f-c095c647a280",
   "metadata": {},
   "outputs": [
    {
     "name": "stdout",
     "output_type": "stream",
     "text": [
      "y - x = 0.0\n",
      "y == x is True\n"
     ]
    }
   ],
   "source": [
    "x = 1.0e16\n",
    "y = x + 1\n",
    "print(f'{y - x = }')\n",
    "print(f'y == x is {y == x}')"
   ]
  },
  {
   "cell_type": "markdown",
   "id": "b9ac5411-bacf-431c-8d45-4a1139e3ae9b",
   "metadata": {},
   "source": [
    "This is because the numbers $10^{16} + 1$ and $10^{16}$  round to the same binary fraction within the finite accuracy representation used by Python."
   ]
  },
  {
   "cell_type": "markdown",
   "id": "22801558-15ea-47e3-a934-2b3072899d1b",
   "metadata": {},
   "source": [
    "## Storing and manipulating vectors, matrices, and tensors"
   ]
  },
  {
   "cell_type": "markdown",
   "id": "c81787c5-6c0c-4b37-ab0c-a6187987349a",
   "metadata": {},
   "source": [
    "In Python you can represent vectors using lists. Elements of a vector can be accessed and modified"
   ]
  },
  {
   "cell_type": "code",
   "execution_count": 7,
   "id": "69f4bda3-8800-4a7a-8502-f26230dedcfd",
   "metadata": {},
   "outputs": [
    {
     "name": "stdout",
     "output_type": "stream",
     "text": [
      "[0.5, -1.0, 2.0]\n",
      "5.25\n"
     ]
    }
   ],
   "source": [
    "vec = [1.0, -1.0, 2.0]\n",
    "vec[0] = 0.5\n",
    "sqr = vec[0] * vec[0] + vec[1] * vec[1] + vec[2] * vec[2]\n",
    "print(vec)\n",
    "print(sqr)"
   ]
  },
  {
   "cell_type": "markdown",
   "id": "6a9f6488-dcc3-4093-9be5-13ca78e767c1",
   "metadata": {},
   "source": [
    "You can even extend this to treat matrices (list of lists) and tensors, but this is in practice a *bad idea*. Why? There are several reasons:\n",
    "\n",
    "- **Performance**. Due to the way it works, Python is very slow at performing operations on vectors.\n",
    "- **Complexity**. Expressing many mathematical operations on vectors, matrices, and tensors can require writing several lines of Python.\n",
    "- **Potential for errors**. The more code you have to write, the more likely it will contain errors in it.\n",
    "\n",
    "A better solution is to use a library that specializes in manipulating arbitrary-order tensors, like `numpy`. Let's import numpy and look at how we can store vectors with it"
   ]
  },
  {
   "cell_type": "code",
   "execution_count": 8,
   "id": "6814386b-9e3d-49ef-a191-2c7de621f161",
   "metadata": {},
   "outputs": [],
   "source": [
    "import numpy as np"
   ]
  },
  {
   "cell_type": "markdown",
   "id": "4e64ec3a-3c9a-4d76-9304-e574c8e90afd",
   "metadata": {},
   "source": [
    "To create a vector with 10 entries initialized to zero and set the fourth entry (with index equal to 3) to 5 we simply do the following"
   ]
  },
  {
   "cell_type": "code",
   "execution_count": 9,
   "id": "b4b80d44-2c21-465c-8aeb-8437bbc065d6",
   "metadata": {},
   "outputs": [
    {
     "name": "stdout",
     "output_type": "stream",
     "text": [
      "v = array([0., 0., 0., 5., 0., 0., 0., 0., 0., 0.])\n"
     ]
    }
   ],
   "source": [
    "v = np.zeros((10))\n",
    "v[3] = 5\n",
    "print(f'{v = }')"
   ]
  },
  {
   "cell_type": "markdown",
   "id": "e161c3c5-b256-489d-a630-de32bde024a3",
   "metadata": {},
   "source": [
    "Notice that `numpy` refers to vectors, matrices, and tensors with the generic term array.\n",
    "    \n",
    "Let's create two lists and numpy arrays fill them with the numbers $0, 1, \\ldots, N - 1$, where $N = 10^{6}$"
   ]
  },
  {
   "cell_type": "code",
   "execution_count": 14,
   "id": "8f571ed0-6d97-4057-b962-bd7abd551da1",
   "metadata": {},
   "outputs": [],
   "source": [
    "import time # for timing purposes only\n",
    "\n",
    "N = 10**7\n",
    "\n",
    "a_list = [i for i in range(N)]\n",
    "b_list = [i for i in range(N)]\n",
    "\n",
    "a_array = np.arange(N)\n",
    "b_array = np.arange(N)"
   ]
  },
  {
   "cell_type": "markdown",
   "id": "84e1d924-46a4-465e-82b3-b441cde553f2",
   "metadata": {},
   "source": [
    "Next, let's add up the two vectors ($\\mathbf{a} + \\mathbf{b}$) stored as a list and compute their dot product ($\\mathbf{a} \\cdot \\mathbf{b}$).\n",
    "We will surround these instructions with calls to `perf_counter()` to get the total timing for these operations"
   ]
  },
  {
   "cell_type": "code",
   "execution_count": 15,
   "id": "37007ac6-c9c6-4020-9c5c-855d69e21527",
   "metadata": {},
   "outputs": [
    {
     "name": "stdout",
     "output_type": "stream",
     "text": [
      "Timing for list: 1.2791229999857023 seconds\n",
      "dot = 3.333332833337171e+20\n"
     ]
    }
   ],
   "source": [
    "start = time.perf_counter()\n",
    "\n",
    "# add vectors\n",
    "c_list = [x + y for x, y in zip(a_list,b_list)]\n",
    "\n",
    "# dot product\n",
    "dot = 0.0\n",
    "for x, y in zip(a_list,b_list):\n",
    "    dot += x * y\n",
    "\n",
    "end = time.perf_counter()\n",
    "\n",
    "time_list = end - start\n",
    "print(f'Timing for list: {time_list} seconds')\n",
    "print(f'{dot = }')"
   ]
  },
  {
   "cell_type": "markdown",
   "id": "7fb0fef6-745d-48b7-a6e4-218c70418669",
   "metadata": {},
   "source": [
    "Now, we repeat the same operations using `numpy`"
   ]
  },
  {
   "cell_type": "code",
   "execution_count": 16,
   "id": "e811b8de-9d90-4cb6-8659-5815f498ec93",
   "metadata": {},
   "outputs": [
    {
     "name": "stdout",
     "output_type": "stream",
     "text": [
      "Timing for list: 0.01426441699732095 seconds\n",
      "dot = 1291890006563070912\n"
     ]
    }
   ],
   "source": [
    "start = time.perf_counter()\n",
    "\n",
    "# add vectors\n",
    "c_array = a_array + b_array\n",
    "\n",
    "# dot product\n",
    "dot = np.dot(a_array, b_array)\n",
    "\n",
    "end = time.perf_counter()\n",
    "time_np = end - start\n",
    "print(f'Timing for list: {time_np} seconds')\n",
    "print(f'{dot = }')"
   ]
  },
  {
   "cell_type": "markdown",
   "id": "7d2c2499-99d0-4c0c-87fe-02838d2fcfbd",
   "metadata": {},
   "source": [
    "Finally, we can compute the speedup achieved by numpy compared to the naïve Python implementation"
   ]
  },
  {
   "cell_type": "code",
   "execution_count": 17,
   "id": "bd9d2a92-cdd0-4643-9d2b-8c92ca3075c8",
   "metadata": {},
   "outputs": [
    {
     "data": {
      "text/plain": [
       "89.67229436898394"
      ]
     },
     "execution_count": 17,
     "metadata": {},
     "output_type": "execute_result"
    }
   ],
   "source": [
    "time_list / time_np"
   ]
  },
  {
   "cell_type": "markdown",
   "id": "04538b7a-c5bb-4f73-8615-dcec6496da51",
   "metadata": {},
   "source": [
    "This test shows a speed up of two orders of magnitude! 🥳"
   ]
  },
  {
   "cell_type": "code",
   "execution_count": null,
   "id": "4fd9a1ce-597f-4904-815c-972c53a62801",
   "metadata": {},
   "outputs": [],
   "source": []
  }
 ],
 "metadata": {
  "kernelspec": {
   "display_name": "Python 3.10 (forte)",
   "language": "python",
   "name": "forte"
  },
  "language_info": {
   "codemirror_mode": {
    "name": "ipython",
    "version": 3
   },
   "file_extension": ".py",
   "mimetype": "text/x-python",
   "name": "python",
   "nbconvert_exporter": "python",
   "pygments_lexer": "ipython3",
   "version": "3.11.8"
  }
 },
 "nbformat": 4,
 "nbformat_minor": 5
}
